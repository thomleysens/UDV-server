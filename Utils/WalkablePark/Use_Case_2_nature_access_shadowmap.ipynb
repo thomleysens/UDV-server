{
 "cells": [
  {
   "cell_type": "markdown",
   "metadata": {},
   "source": [
    "# Use Case 2: find the \"*shadows*\"/\"*holes*\" in the access to nature (*green spaces, parks, ...*)\n",
    "\n",
    "## First test: accessibility from multiple parks\n",
    "\n",
    "We will use what we have done in the previous Use Case and a little bit of complexity:\n",
    "1. find parks as a polygons\n",
    "2. make a buffer around each park & get network nodes in these buffers\n",
    "3. measure accessibility from these nodes\n",
    "4. Make a map of *shadows*\n",
    "\n",
    "### 1. Find parks' polygons\n",
    "\n",
    "To get parks data, we are going to use this tools/libraries: \n",
    "* [Bounding box for overpass](https://wiki.openstreetmap.org/wiki/Overpass_API#The_map_query)\n",
    "* [Overpass turbo](http://overpass-turbo.eu/#)\n",
    "* [Overpass API Python](https://github.com/mvexel/overpass-api-python-wrapper)\n",
    "\n",
    "#### Get data from OSM"
   ]
  },
  {
   "cell_type": "code",
   "execution_count": null,
   "metadata": {},
   "outputs": [],
   "source": [
    "from overpass_methods import get_OSM_poly\n",
    "\n",
    "#bbox (SOUTH, WEST, NORTH, EAST)\n",
    "bbox = (45.7,4.82,45.8,4.99)\n",
    "key = \"leisure\"\n",
    "value = \"park\"\n",
    "\n",
    "features = get_OSM_poly(bbox, key, value)"
   ]
  },
  {
   "cell_type": "markdown",
   "metadata": {},
   "source": [
    "#### Map parks OSM data"
   ]
  },
  {
   "cell_type": "code",
   "execution_count": null,
   "metadata": {},
   "outputs": [],
   "source": [
    "from bokeh.io import show, output_file, output_notebook\n",
    "from bokeh.models import GeoJSONDataSource, ColorBar, LogColorMapper, LogTicker, ColumnDataSource\n",
    "from bokeh.plotting import figure\n",
    "from bokeh.tile_providers import get_provider, Vendors\n",
    "from bokeh.io import export_png\n",
    "from bokeh.layouts import gridplot\n",
    "from bokeh.palettes import Viridis6\n",
    "from bokeh.transform import linear_cmap\n",
    "import geopandas as gpd\n",
    "import json\n",
    "\n",
    "output_notebook()\n",
    "\n",
    "#Prepare parks GeoJSON data\n",
    "parks = gpd.GeoDataFrame.from_features(features['features'])\n",
    "parks.crs = {\"init\":\"epsg:4326\"}\n",
    "parks = parks.to_crs({\"init\":\"epsg:3857\"}) #change projection for visualisation purposes\n",
    "parks.to_file(\"./data/parks.geojson\", driver=\"GeoJSON\")\n",
    "\n",
    "with open(\"./data/parks.geojson\") as f:\n",
    "    d = json.load(f)\n",
    "    parks_source = GeoJSONDataSource(\n",
    "        geojson=json.dumps(d)\n",
    "    )\n",
    "\n",
    "# Create Bokeh figures\n",
    "p1 = figure(\n",
    "        width = 800,\n",
    "        height = 600,\n",
    "        output_backend=\"webgl\"\n",
    "    )\n",
    "\n",
    "# Add background tiles\n",
    "p1.add_tile(get_provider(Vendors.STAMEN_TONER_BACKGROUND), alpha=0.2)\n",
    "\n",
    "# # Add parks\n",
    "p1.patches(\n",
    "    xs=\"xs\",\n",
    "    ys=\"ys\",\n",
    "    fill_color=\"green\",\n",
    "    fill_alpha=0.7,\n",
    "    line_color=\"white\",\n",
    "    line_alpha=0.5,\n",
    "    line_width=1,\n",
    "    source=parks_source,\n",
    "    legend=\"Parks\"\n",
    ")\n",
    "\n",
    "p1.axis.visible = False\n",
    "\n",
    "# Export to png for illustration purpose in markdown\n",
    "export_png(p1, filename=\"./img/parks.png\")\n"
   ]
  },
  {
   "cell_type": "code",
   "execution_count": null,
   "metadata": {},
   "outputs": [],
   "source": [
    "show(p1)"
   ]
  },
  {
   "cell_type": "markdown",
   "metadata": {},
   "source": [
    "<img src=\"./img/parks.png\" width=\"70%\">"
   ]
  },
  {
   "cell_type": "markdown",
   "metadata": {},
   "source": [
    "#### Get graph\n",
    "\n",
    "> ***Do not use this part of code if you already have ```nodes JSON``` and ```edges JSON``` files***"
   ]
  },
  {
   "cell_type": "code",
   "execution_count": null,
   "metadata": {},
   "outputs": [],
   "source": [
    "import osmnx as ox\n",
    "\n",
    "from graph_utils import graph_to_df, graph_with_time\n",
    "\n",
    "# Parameters\n",
    "bbox = [4.73,45.66,5.05,45.86] #from Geofabrik Tile Calculator, [left, bottom, right, top]\n",
    "\n",
    "# Get graph from OSM data\n",
    "graph = ox.graph_from_bbox(\n",
    "    bbox[3],\n",
    "    bbox[1],\n",
    "    bbox[2],\n",
    "    bbox[0],\n",
    "    network_type=\"walk\"\n",
    ") #bbox => north, south, east, west\n",
    "\n",
    "# Add time as weight in graph (based on walk speed)\n",
    "walk_distance = 5000 #in meters for 1 hour trip\n",
    "graph = graph_with_time(graph, walk_distance)\n",
    "\n",
    "#Write graph to disk as 2 files (nodes and edges)\n",
    "nodes_path = \"./data/graph/nodes.json\"\n",
    "edges_path = \"./data/graph/edges.json\"\n",
    "graph_to_df(graph, edges_path, nodes_path)"
   ]
  },
  {
   "cell_type": "markdown",
   "metadata": {},
   "source": [
    "#### Load graph"
   ]
  },
  {
   "cell_type": "code",
   "execution_count": null,
   "metadata": {},
   "outputs": [],
   "source": [
    "from graph_utils import df_to_graph\n",
    "\n",
    "# Import graph from json files and transform to NetworkX MultiDiGraph\n",
    "nodes_path = \"./data/graph/nodes.json\"\n",
    "edges_path = \"./data/graph/edges.json\"\n",
    "G = df_to_graph(edges_path, nodes_path)"
   ]
  },
  {
   "cell_type": "markdown",
   "metadata": {},
   "source": [
    "#### Get center nodes"
   ]
  },
  {
   "cell_type": "code",
   "execution_count": null,
   "metadata": {},
   "outputs": [],
   "source": [
    "import geopandas as gpd\n",
    "\n",
    "from isochrone import Accessibility\n",
    "from get_nearest_points import GetCenterNodes\n",
    "from graph_utils import graph_to_gdf_points \n",
    "from get_holes import get_all_center_nodes\n",
    "\n",
    "#Parameters\n",
    "epsg_polys = 3857\n",
    "epsg_graph = 4326\n",
    "epsg_metric = 2154\n",
    "lat = \"x\"\n",
    "lng = \"y\"\n",
    "\n",
    "# Get Points GeoDataframe from graph\n",
    "points = graph_to_gdf_points(G, lat, lng, epsg_graph)\n",
    "# Reproject points to metric\n",
    "points = points.to_crs(\n",
    "    {\n",
    "        \"init\":\"epsg:{}\".format(epsg_metric)\n",
    "    }\n",
    ")\n",
    "\n",
    "# Reproject polys to metric\n",
    "parks = gpd.GeoDataFrame.from_file(\"./data/parks.geojson\")\n",
    "parks.crs = {\n",
    "    \"init\":\"epsg:{}\".format(epsg_polys)\n",
    "}\n",
    "parks = parks.to_crs(\n",
    "    {\n",
    "        \"init\":\"epsg:{}\".format(epsg_metric)\n",
    "    }\n",
    ")\n",
    "\n",
    "#Get polys as list\n",
    "park_polys = parks[\"geometry\"].to_list()\n",
    "poly_names = parks[\"name\"].to_list()\n",
    "        \n",
    "center_nodes = get_all_center_nodes(park_polys, points, lat, lng, poly_names=poly_names)"
   ]
  },
  {
   "cell_type": "code",
   "execution_count": null,
   "metadata": {},
   "outputs": [],
   "source": [
    "import time\n",
    "import datetime\n",
    "\n",
    "start = time.time()\n",
    "\n",
    "tmp = []\n",
    "for center in center_nodes:\n",
    "    tmp.extend(center)\n",
    "\n",
    "end  = time.time()\n",
    "\n",
    "print (str(datetime.timedelta(seconds=end-start)))"
   ]
  },
  {
   "cell_type": "markdown",
   "metadata": {},
   "source": [
    "### 2. Make a buffer & get network nodes in this buffer\n",
    "\n",
    "We use our own Python class and methods to get the nearest nodes from the park polygon. "
   ]
  },
  {
   "cell_type": "code",
   "execution_count": null,
   "metadata": {},
   "outputs": [],
   "source": [
    "from isochrone import Accessibility\n",
    "\n",
    "#Delete duplicates\n",
    "set_center_nodes = list(set(tmp))\n",
    "\n",
    "# Parameters\n",
    "trip_times = [5,10,15] #in minutes\n",
    "distance_buffer = 40 #in meters\n",
    "\n",
    "access = Accessibility(\n",
    "    G, \n",
    "    trip_times, \n",
    "    distance_buffer,\n",
    "    center_nodes=set_center_nodes,\n",
    ")\n",
    "\n",
    "access.get_results()"
   ]
  },
  {
   "cell_type": "markdown",
   "metadata": {},
   "source": [
    "#### Simple plot"
   ]
  },
  {
   "cell_type": "code",
   "execution_count": null,
   "metadata": {},
   "outputs": [],
   "source": [
    "access.lines.origin.plot(column='duration', cmap='viridis');"
   ]
  },
  {
   "cell_type": "markdown",
   "metadata": {},
   "source": [
    "#### Visualisation with Bokeh"
   ]
  },
  {
   "cell_type": "code",
   "execution_count": null,
   "metadata": {},
   "outputs": [],
   "source": [
    "from bokeh.io import show, output_file, output_notebook\n",
    "from bokeh.models import GeoJSONDataSource, ColorBar, LogColorMapper, LogTicker, ColumnDataSource\n",
    "from bokeh.plotting import figure\n",
    "from bokeh.tile_providers import get_provider, Vendors\n",
    "from bokeh.io import export_png\n",
    "from bokeh.layouts import gridplot\n",
    "from bokeh.palettes import Viridis6, Viridis3\n",
    "from bokeh.transform import linear_cmap\n",
    "import geopandas as gpd\n",
    "import json\n",
    "\n",
    "from bokeh_transform import geojson_to_datasource\n",
    "\n",
    "output_notebook()\n",
    "\n",
    "union_name = \"./data/Lyon_metropole/union_park.geojson\"\n",
    "park_name = \"./data/parks.geojson\"\n",
    "\n",
    "# Save GeoDataframe as GeoJSON\n",
    "access.union.vis.to_file(union_name, driver=\"GeoJSON\")\n",
    "\n",
    "# Open GeoJSON as GeoDataSources for Bokeh webmapping\n",
    "with open(union_name) as f:\n",
    "    d = json.load(f)\n",
    "    union_source = GeoJSONDataSource(\n",
    "        geojson=json.dumps(d)\n",
    "    )\n",
    "    \n",
    "with open(park_name) as f:\n",
    "    d = json.load(f)\n",
    "    park_source = GeoJSONDataSource(\n",
    "        geojson=json.dumps(d)\n",
    "    )\n",
    "    \n",
    "# Create color mapper\n",
    "mapper = linear_cmap(\n",
    "    field_name='duration', \n",
    "    palette=Viridis3, \n",
    "    low=0.01, \n",
    "    high=15\n",
    ")\n",
    "    \n",
    "# Create Bokeh figures\n",
    "p1 = figure(\n",
    "        width = 800,\n",
    "        height = 600,\n",
    "        output_backend=\"webgl\"\n",
    "    )\n",
    "\n",
    "# Add background tiles\n",
    "p1.add_tile(get_provider(Vendors.STAMEN_TONER_BACKGROUND), alpha=0.2)\n",
    "\n",
    "# Transform union_source to Bokeh multi_polygon format\n",
    "union_name = \"./data/Lyon_metropole/union_park.geojson\"\n",
    "multi_polys_source = geojson_to_datasource(union_name)\n",
    "\n",
    "# Add union of buffered lines\n",
    "p1.multi_polygons(\n",
    "    xs=\"xs\",\n",
    "    ys=\"ys\",\n",
    "    fill_color=\"color\",\n",
    "    fill_alpha=0.7,\n",
    "    line_color=\"white\",\n",
    "    line_alpha=0.0,\n",
    "    line_width=1,\n",
    "    source=multi_polys_source,\n",
    "    legend=\"Union\"\n",
    ")\n",
    "\n",
    "p1.patches(\n",
    "    xs=\"xs\",\n",
    "    ys=\"ys\",\n",
    "    fill_color=\"red\",\n",
    "    fill_alpha=0.5,\n",
    "    line_color=\"white\",\n",
    "    line_alpha=1.0,\n",
    "    line_width=1,\n",
    "    source=park_source,\n",
    "    legend=\"Parks\"\n",
    ")\n",
    "\n",
    "p1.axis.visible = False\n",
    "# Export map to an html file\n",
    "# output_file(\"accessibility_map.html\")\n",
    "\n",
    "color_bar = ColorBar(color_mapper=mapper['transform'], width=20,  location=(0,0))\n",
    "\n",
    "p1.add_layout(color_bar, 'right')\n",
    "p1.legend.click_policy=\"hide\"\n",
    "\n",
    "# Export to png for illustration purpose in markdown\n",
    "export_png(p1, filename=\"./img/accessibility_parks.png\")\n"
   ]
  },
  {
   "cell_type": "code",
   "execution_count": null,
   "metadata": {},
   "outputs": [],
   "source": [
    "show(p1)"
   ]
  },
  {
   "cell_type": "markdown",
   "metadata": {},
   "source": [
    "<img src=\"./img/accessibility_parks.png\" width=\"70%\">"
   ]
  },
  {
   "cell_type": "markdown",
   "metadata": {},
   "source": [
    "#### Visualisation of the parks \"*cover*\" and so \"*holes*\" in this cover"
   ]
  },
  {
   "cell_type": "code",
   "execution_count": null,
   "metadata": {},
   "outputs": [],
   "source": [
    "#Make one object with parks and accessibility to get \"holes\"\n",
    "from shapely.ops import cascaded_union\n",
    "\n",
    "all_name = \"./data/Lyon_metropole/all.geojson\"\n",
    "\n",
    "list_parks = gpd.GeoDataFrame.from_file(park_name)[\"geometry\"].tolist()\n",
    "parks = cascaded_union(list_parks)\n",
    "list_polys = access.union.vis[\"geometry\"].tolist()\n",
    "access_polys = cascaded_union(list_polys)\n",
    "polys = cascaded_union([parks, access_polys])\n",
    "gdf = gpd.GeoDataFrame(geometry=[polys])\n",
    "gdf.crs = {\"init\":\"epsg:3857\"}\n",
    "gdf.to_file(all_name, driver=\"GeoJSON\")\n",
    "all_source = geojson_to_datasource(all_name)\n",
    "\n",
    "# Create Bokeh figures\n",
    "p2 = figure(\n",
    "        width = 800,\n",
    "        height = 600,\n",
    "        output_backend=\"webgl\"\n",
    "    )\n",
    "\n",
    "# Add background tiles\n",
    "p2.add_tile(get_provider(Vendors.STAMEN_TONER_BACKGROUND), alpha=0.2)\n",
    "\n",
    "p2.multi_polygons(\n",
    "    xs=\"xs\",\n",
    "    ys=\"ys\",\n",
    "    fill_color=\"green\",\n",
    "    fill_alpha=0.5,\n",
    "    line_color=\"white\",\n",
    "    line_alpha=1.0,\n",
    "    line_width=1,\n",
    "    source=all_source,\n",
    "    legend=\"Parks_cover\"\n",
    ")\n",
    "\n",
    "# Export to png for illustration purpose in markdown\n",
    "export_png(p2, filename=\"./img/holes_map.png\")\n",
    "\n",
    "show(p2)"
   ]
  },
  {
   "cell_type": "markdown",
   "metadata": {},
   "source": [
    "<img src=\"./img/holes_map.png\" width=\"70%\">"
   ]
  }
 ],
 "metadata": {
  "kernelspec": {
   "display_name": "Python 3",
   "language": "python",
   "name": "python3"
  },
  "language_info": {
   "codemirror_mode": {
    "name": "ipython",
    "version": 3
   },
   "file_extension": ".py",
   "mimetype": "text/x-python",
   "name": "python",
   "nbconvert_exporter": "python",
   "pygments_lexer": "ipython3",
   "version": "3.7.3"
  }
 },
 "nbformat": 4,
 "nbformat_minor": 2
}
